{
 "cells": [
  {
   "cell_type": "code",
   "execution_count": 6,
   "metadata": {},
   "outputs": [],
   "source": [
    "import pandas as pd\n",
    "import numpy as np\n",
    "from numpy import array\n",
    "import keras\n",
    "from keras.models import Sequential\n",
    "from keras.layers import LSTM, Dense, ConvLSTM2D, ConvLSTM1D, Dropout,Conv2D, TimeDistributed, Conv1D, MaxPooling1D, Flatten, RepeatVector, MaxPooling2D, MaxPooling3D, BatchNormalization\n",
    "from sklearn.metrics import mean_squared_error\n",
    "from sklearn.metrics import mean_absolute_percentage_error\n",
    "from sklearn.metrics import mean_absolute_error\n",
    "import matplotlib.pyplot as plt\n",
    "from tqdm import tqdm\n",
    "from keras.utils import set_random_seed\n",
    "from keras.callbacks import EarlyStopping\n",
    "from datetime import timedelta"
   ]
  },
  {
   "cell_type": "code",
   "execution_count": 7,
   "metadata": {},
   "outputs": [
    {
     "data": {
      "text/html": [
       "<div>\n",
       "<style scoped>\n",
       "    .dataframe tbody tr th:only-of-type {\n",
       "        vertical-align: middle;\n",
       "    }\n",
       "\n",
       "    .dataframe tbody tr th {\n",
       "        vertical-align: top;\n",
       "    }\n",
       "\n",
       "    .dataframe thead th {\n",
       "        text-align: right;\n",
       "    }\n",
       "</style>\n",
       "<table border=\"1\" class=\"dataframe\">\n",
       "  <thead>\n",
       "    <tr style=\"text-align: right;\">\n",
       "      <th></th>\n",
       "      <th>Date</th>\n",
       "      <th>Open</th>\n",
       "      <th>High</th>\n",
       "      <th>Low</th>\n",
       "      <th>Close</th>\n",
       "      <th>Adj Close</th>\n",
       "      <th>Volume</th>\n",
       "    </tr>\n",
       "  </thead>\n",
       "  <tbody>\n",
       "    <tr>\n",
       "      <th>0</th>\n",
       "      <td>2016-05-03</td>\n",
       "      <td>1292.699951</td>\n",
       "      <td>1301.500000</td>\n",
       "      <td>1284.500000</td>\n",
       "      <td>1290.699951</td>\n",
       "      <td>1290.699951</td>\n",
       "      <td>151</td>\n",
       "    </tr>\n",
       "    <tr>\n",
       "      <th>1</th>\n",
       "      <td>2016-05-04</td>\n",
       "      <td>1286.900024</td>\n",
       "      <td>1290.000000</td>\n",
       "      <td>1273.000000</td>\n",
       "      <td>1273.300049</td>\n",
       "      <td>1273.300049</td>\n",
       "      <td>109</td>\n",
       "    </tr>\n",
       "    <tr>\n",
       "      <th>2</th>\n",
       "      <td>2016-05-05</td>\n",
       "      <td>1282.900024</td>\n",
       "      <td>1286.000000</td>\n",
       "      <td>1270.800049</td>\n",
       "      <td>1271.400024</td>\n",
       "      <td>1271.400024</td>\n",
       "      <td>330</td>\n",
       "    </tr>\n",
       "    <tr>\n",
       "      <th>3</th>\n",
       "      <td>2016-05-06</td>\n",
       "      <td>1278.599976</td>\n",
       "      <td>1295.599976</td>\n",
       "      <td>1276.900024</td>\n",
       "      <td>1292.900024</td>\n",
       "      <td>1292.900024</td>\n",
       "      <td>305</td>\n",
       "    </tr>\n",
       "    <tr>\n",
       "      <th>4</th>\n",
       "      <td>2016-05-09</td>\n",
       "      <td>1286.500000</td>\n",
       "      <td>1286.500000</td>\n",
       "      <td>1262.300049</td>\n",
       "      <td>1265.599976</td>\n",
       "      <td>1265.599976</td>\n",
       "      <td>341</td>\n",
       "    </tr>\n",
       "    <tr>\n",
       "      <th>...</th>\n",
       "      <td>...</td>\n",
       "      <td>...</td>\n",
       "      <td>...</td>\n",
       "      <td>...</td>\n",
       "      <td>...</td>\n",
       "      <td>...</td>\n",
       "      <td>...</td>\n",
       "    </tr>\n",
       "    <tr>\n",
       "      <th>1756</th>\n",
       "      <td>2023-04-26</td>\n",
       "      <td>1997.800049</td>\n",
       "      <td>1998.800049</td>\n",
       "      <td>1985.599976</td>\n",
       "      <td>1985.699951</td>\n",
       "      <td>1985.699951</td>\n",
       "      <td>615</td>\n",
       "    </tr>\n",
       "    <tr>\n",
       "      <th>1757</th>\n",
       "      <td>2023-04-27</td>\n",
       "      <td>1990.599976</td>\n",
       "      <td>2002.300049</td>\n",
       "      <td>1979.900024</td>\n",
       "      <td>1989.900024</td>\n",
       "      <td>1989.900024</td>\n",
       "      <td>355</td>\n",
       "    </tr>\n",
       "    <tr>\n",
       "      <th>1758</th>\n",
       "      <td>2023-04-28</td>\n",
       "      <td>1986.900024</td>\n",
       "      <td>1990.099976</td>\n",
       "      <td>1977.699951</td>\n",
       "      <td>1990.099976</td>\n",
       "      <td>1990.099976</td>\n",
       "      <td>152</td>\n",
       "    </tr>\n",
       "    <tr>\n",
       "      <th>1759</th>\n",
       "      <td>2023-05-01</td>\n",
       "      <td>1980.099976</td>\n",
       "      <td>2005.000000</td>\n",
       "      <td>1976.900024</td>\n",
       "      <td>1983.400024</td>\n",
       "      <td>1983.400024</td>\n",
       "      <td>210</td>\n",
       "    </tr>\n",
       "    <tr>\n",
       "      <th>1760</th>\n",
       "      <td>2023-05-02</td>\n",
       "      <td>1994.699951</td>\n",
       "      <td>2018.000000</td>\n",
       "      <td>1994.699951</td>\n",
       "      <td>2014.300049</td>\n",
       "      <td>2014.300049</td>\n",
       "      <td>1896</td>\n",
       "    </tr>\n",
       "  </tbody>\n",
       "</table>\n",
       "<p>1761 rows × 7 columns</p>\n",
       "</div>"
      ],
      "text/plain": [
       "            Date         Open         High          Low        Close  \\\n",
       "0     2016-05-03  1292.699951  1301.500000  1284.500000  1290.699951   \n",
       "1     2016-05-04  1286.900024  1290.000000  1273.000000  1273.300049   \n",
       "2     2016-05-05  1282.900024  1286.000000  1270.800049  1271.400024   \n",
       "3     2016-05-06  1278.599976  1295.599976  1276.900024  1292.900024   \n",
       "4     2016-05-09  1286.500000  1286.500000  1262.300049  1265.599976   \n",
       "...          ...          ...          ...          ...          ...   \n",
       "1756  2023-04-26  1997.800049  1998.800049  1985.599976  1985.699951   \n",
       "1757  2023-04-27  1990.599976  2002.300049  1979.900024  1989.900024   \n",
       "1758  2023-04-28  1986.900024  1990.099976  1977.699951  1990.099976   \n",
       "1759  2023-05-01  1980.099976  2005.000000  1976.900024  1983.400024   \n",
       "1760  2023-05-02  1994.699951  2018.000000  1994.699951  2014.300049   \n",
       "\n",
       "        Adj Close  Volume  \n",
       "0     1290.699951     151  \n",
       "1     1273.300049     109  \n",
       "2     1271.400024     330  \n",
       "3     1292.900024     305  \n",
       "4     1265.599976     341  \n",
       "...           ...     ...  \n",
       "1756  1985.699951     615  \n",
       "1757  1989.900024     355  \n",
       "1758  1990.099976     152  \n",
       "1759  1983.400024     210  \n",
       "1760  2014.300049    1896  \n",
       "\n",
       "[1761 rows x 7 columns]"
      ]
     },
     "execution_count": 7,
     "metadata": {},
     "output_type": "execute_result"
    }
   ],
   "source": [
    "df = pd.read_csv('Gold_Price_3.csv')\n",
    "df"
   ]
  },
  {
   "cell_type": "code",
   "execution_count": 8,
   "metadata": {},
   "outputs": [
    {
     "data": {
      "text/plain": [
       "0      2016-05-03\n",
       "1      2016-05-04\n",
       "2      2016-05-05\n",
       "3      2016-05-06\n",
       "4      2016-05-09\n",
       "          ...    \n",
       "1756   2023-04-26\n",
       "1757   2023-04-27\n",
       "1758   2023-04-28\n",
       "1759   2023-05-01\n",
       "1760   2023-05-02\n",
       "Name: Date, Length: 1761, dtype: datetime64[ns]"
      ]
     },
     "execution_count": 8,
     "metadata": {},
     "output_type": "execute_result"
    }
   ],
   "source": [
    "df['Date'] = pd.to_datetime(df['Date']) \n",
    "df['Date']"
   ]
  },
  {
   "cell_type": "code",
   "execution_count": 9,
   "metadata": {},
   "outputs": [
    {
     "data": {
      "text/plain": [
       "array([[1290.69995117],\n",
       "       [1273.30004883],\n",
       "       [1271.40002441],\n",
       "       ...,\n",
       "       [1990.09997559],\n",
       "       [1983.40002441],\n",
       "       [2014.30004883]])"
      ]
     },
     "execution_count": 9,
     "metadata": {},
     "output_type": "execute_result"
    }
   ],
   "source": [
    "data = df[['Close']].values\n",
    "data"
   ]
  },
  {
   "cell_type": "code",
   "execution_count": 10,
   "metadata": {},
   "outputs": [],
   "source": [
    "from sklearn.preprocessing import MinMaxScaler\n",
    "from sklearn.preprocessing import StandardScaler\n",
    "scaler = MinMaxScaler()\n",
    "data_scaled = scaler.fit_transform(data)"
   ]
  },
  {
   "cell_type": "code",
   "execution_count": 11,
   "metadata": {},
   "outputs": [
    {
     "data": {
      "text/plain": [
       "array([[0.17635586],\n",
       "       [0.15751868],\n",
       "       [0.15546171],\n",
       "       ...,\n",
       "       [0.93352817],\n",
       "       [0.92627479],\n",
       "       [0.95972723]])"
      ]
     },
     "execution_count": 11,
     "metadata": {},
     "output_type": "execute_result"
    }
   ],
   "source": [
    "data_scaled"
   ]
  },
  {
   "cell_type": "code",
   "execution_count": 12,
   "metadata": {},
   "outputs": [],
   "source": [
    "def Train_test_split(sequence, n_steps, train_size, test_size):\n",
    "    data_train = sequence[:train_size]\n",
    "    data_test = sequence[train_size:train_size+test_size]\n",
    "    data_valid = sequence[train_size+test_size:]\n",
    "    \n",
    "    X_train, X_test, X_valid, y_train, y_test, y_valid = [], [], [], [], [], []\n",
    "    for i in range(len(data_train) - n_steps):\n",
    "        X_train.append(data_train[i:i+n_steps]) \n",
    "        y_train.append(data_train[i+n_steps])\n",
    "        \n",
    "    for i in range(len(data_test) - n_steps):\n",
    "        X_test.append(data_test[i:i+n_steps]) \n",
    "        y_test.append(data_test[i+n_steps])\n",
    "        \n",
    "    for i in range(len(data_valid) - n_steps):\n",
    "        X_valid.append(data_valid[i:i+n_steps]) \n",
    "        y_valid.append(data_valid[i+n_steps])\n",
    "    \n",
    "    return array(X_train), array(X_test), array(X_valid), array(y_train), array(y_test), array(y_valid)"
   ]
  },
  {
   "cell_type": "code",
   "execution_count": 13,
   "metadata": {},
   "outputs": [],
   "source": [
    "def LSTM_model(X_train, y_train, X_valid, y_valid):\n",
    "    set_random_seed(42)\n",
    "    model = Sequential()\n",
    "    model.add(LSTM(128, return_sequences=True, input_shape=(X_train.shape[1], 1)))\n",
    "    model.add(LSTM(64, return_sequences = False))\n",
    "    model.add(Dense(25))\n",
    "    model.add(Dense(1))\n",
    "    model.compile(optimizer='adam', loss='mean_squared_error')\n",
    "    # fit model\n",
    "    callback = EarlyStopping(monitor='val_loss', patience=5, restore_best_weights=True, mode='min')\n",
    "    model.fit(X_train, y_train, epochs=300, verbose=1, validation_data=(X_valid, y_valid), callbacks=[callback])\n",
    "    return model"
   ]
  },
  {
   "cell_type": "code",
   "execution_count": 14,
   "metadata": {},
   "outputs": [],
   "source": [
    "def Eval_model(model, X_test, y_test):\n",
    "    y_pred = model.predict(X_test)\n",
    "    y_pred_inverted = scaler.inverse_transform(y_pred.reshape(y_pred.shape[0],-1))\n",
    "    y_test_inverted = scaler.inverse_transform(y_test.reshape(y_test.shape[0],-1))\n",
    "    rmse = round(mean_squared_error(y_test_inverted, y_pred_inverted, squared=False),1)\n",
    "    mape = round(mean_absolute_percentage_error(y_test_inverted, y_pred_inverted)*100,2)\n",
    "    mae = round(mean_absolute_error(y_test_inverted, y_pred_inverted),1)\n",
    "    return y_pred_inverted, rmse, mape, mae"
   ]
  },
  {
   "cell_type": "code",
   "execution_count": 15,
   "metadata": {},
   "outputs": [],
   "source": [
    "RMSE = [0,0,0]\n",
    "MAPE = [0,0,0]\n",
    "MAE = [0,0,0]"
   ]
  },
  {
   "attachments": {},
   "cell_type": "markdown",
   "metadata": {},
   "source": [
    "# Train(60%) - Test(30%) - Valid(10%)"
   ]
  },
  {
   "cell_type": "code",
   "execution_count": 16,
   "metadata": {},
   "outputs": [],
   "source": [
    "train_size = int(0.6*len(data_scaled))\n",
    "test_size = int(0.3*len(data_scaled))\n",
    "valid_size = len(data_scaled) - train_size - test_size\n",
    "time_step = 100\n",
    "X_train, X_test, X_valid, y_train, y_test, y_valid = Train_test_split(data_scaled, n_steps=time_step, train_size=train_size, test_size=test_size)"
   ]
  },
  {
   "cell_type": "code",
   "execution_count": 17,
   "metadata": {},
   "outputs": [
    {
     "name": "stdout",
     "output_type": "stream",
     "text": [
      "Epoch 1/300\n",
      "30/30 [==============================] - 8s 130ms/step - loss: 0.0102 - val_loss: 0.0025\n",
      "Epoch 2/300\n",
      "30/30 [==============================] - 3s 93ms/step - loss: 8.6904e-04 - val_loss: 0.0020\n",
      "Epoch 3/300\n",
      "30/30 [==============================] - 3s 104ms/step - loss: 7.8540e-04 - val_loss: 0.0014\n",
      "Epoch 4/300\n",
      "30/30 [==============================] - 3s 89ms/step - loss: 8.7290e-04 - val_loss: 0.0015\n",
      "Epoch 5/300\n",
      "30/30 [==============================] - 3s 85ms/step - loss: 7.4839e-04 - val_loss: 0.0019\n",
      "Epoch 6/300\n",
      "30/30 [==============================] - 3s 85ms/step - loss: 7.2662e-04 - val_loss: 0.0013\n",
      "Epoch 7/300\n",
      "30/30 [==============================] - 2s 82ms/step - loss: 7.1828e-04 - val_loss: 0.0014\n",
      "Epoch 8/300\n",
      "30/30 [==============================] - 3s 85ms/step - loss: 6.9251e-04 - val_loss: 0.0012\n",
      "Epoch 9/300\n",
      "30/30 [==============================] - 2s 81ms/step - loss: 7.6809e-04 - val_loss: 0.0025\n",
      "Epoch 10/300\n",
      "30/30 [==============================] - 3s 88ms/step - loss: 6.5628e-04 - val_loss: 0.0014\n",
      "Epoch 11/300\n",
      "30/30 [==============================] - 3s 86ms/step - loss: 7.2779e-04 - val_loss: 0.0012\n",
      "Epoch 12/300\n",
      "30/30 [==============================] - 3s 85ms/step - loss: 7.4531e-04 - val_loss: 0.0011\n",
      "Epoch 13/300\n",
      "30/30 [==============================] - 2s 84ms/step - loss: 7.0117e-04 - val_loss: 0.0012\n",
      "Epoch 14/300\n",
      "30/30 [==============================] - 3s 87ms/step - loss: 6.5252e-04 - val_loss: 0.0013\n",
      "Epoch 15/300\n",
      "30/30 [==============================] - 2s 84ms/step - loss: 6.2589e-04 - val_loss: 0.0016\n",
      "Epoch 16/300\n",
      "30/30 [==============================] - 3s 90ms/step - loss: 6.1392e-04 - val_loss: 0.0016\n",
      "Epoch 17/300\n",
      "30/30 [==============================] - 3s 88ms/step - loss: 5.9281e-04 - val_loss: 0.0012\n"
     ]
    }
   ],
   "source": [
    "model = LSTM_model(X_train, y_train, X_test, y_test)"
   ]
  },
  {
   "cell_type": "code",
   "execution_count": 18,
   "metadata": {},
   "outputs": [
    {
     "name": "stdout",
     "output_type": "stream",
     "text": [
      "14/14 [==============================] - 1s 24ms/step\n",
      "3/3 [==============================] - 0s 17ms/step\n",
      "RMSE score of the model: 30.5\n",
      "MAPE score of the model: 1.27%\n",
      "MAE score of the model: 23.0\n"
     ]
    }
   ],
   "source": [
    "y_pred_test, rmse, mape, mae = Eval_model(model, X_test, y_test)\n",
    "y_pred_val, _, _, _ = Eval_model(model, X_valid, y_valid)\n",
    "RMSE[0] = rmse\n",
    "MAPE[0] = str(mape)+'%'\n",
    "MAE[0] = mae\n",
    "print(f\"RMSE score of the model: {rmse}\")\n",
    "print(f\"MAPE score of the model: {mape}%\")\n",
    "print(f\"MAE score of the model: {mae}\")"
   ]
  },
  {
   "cell_type": "code",
   "execution_count": 19,
   "metadata": {},
   "outputs": [
    {
     "data": {
      "image/png": "[encoded data removed]",
      "text/plain": [
       "<Figure size 720x432 with 1 Axes>"
      ]
     },
     "metadata": {
      "needs_background": "light"
     },
     "output_type": "display_data"
    }
   ],
   "source": [
    "plt.figure(figsize=(10,6))\n",
    "plt.plot(df['Date'][:train_size], data[:train_size].flatten(), label = \"Train\")\n",
    "plt.plot(df['Date'][train_size:train_size+test_size], data[train_size:train_size+test_size].flatten(), label = \"Test\")\n",
    "plt.plot(df['Date'][train_size+time_step:train_size+test_size], y_pred_test, label = \"Predict_test\")\n",
    "plt.plot(df['Date'][train_size+test_size:], data[train_size+test_size:].flatten(), label = \"Valid\")\n",
    "plt.plot(df['Date'][train_size+test_size+time_step:], y_pred_val, label = \"Predict_valid\")\n",
    "plt.legend()\n",
    "plt.show()"
   ]
  },
  {
   "attachments": {},
   "cell_type": "markdown",
   "metadata": {},
   "source": [
    "# Train(70%) - Test(20%) - Valid(10%)"
   ]
  },
  {
   "cell_type": "code",
   "execution_count": 20,
   "metadata": {},
   "outputs": [],
   "source": [
    "train_size = int(0.7*len(data_scaled))\n",
    "test_size = int(0.2*len(data_scaled))\n",
    "valid_size = len(data_scaled) - train_size - test_size\n",
    "time_step = 100\n",
    "X_train, X_test, X_valid, y_train, y_test, y_valid = Train_test_split(data_scaled, n_steps=time_step, train_size=train_size, test_size=test_size)"
   ]
  },
  {
   "cell_type": "code",
   "execution_count": 21,
   "metadata": {},
   "outputs": [
    {
     "name": "stdout",
     "output_type": "stream",
     "text": [
      "Epoch 1/300\n",
      "36/36 [==============================] - 8s 101ms/step - loss: 0.0171 - val_loss: 0.0014\n",
      "Epoch 2/300\n",
      "36/36 [==============================] - 3s 70ms/step - loss: 0.0012 - val_loss: 0.0015\n",
      "Epoch 3/300\n",
      "36/36 [==============================] - 3s 74ms/step - loss: 0.0011 - val_loss: 0.0016\n",
      "Epoch 4/300\n",
      "36/36 [==============================] - 3s 71ms/step - loss: 0.0010 - val_loss: 0.0016\n",
      "Epoch 5/300\n",
      "36/36 [==============================] - 3s 74ms/step - loss: 9.9067e-04 - val_loss: 0.0013\n",
      "Epoch 6/300\n",
      "36/36 [==============================] - 3s 73ms/step - loss: 9.2960e-04 - val_loss: 0.0013\n",
      "Epoch 7/300\n",
      "36/36 [==============================] - 3s 72ms/step - loss: 9.2414e-04 - val_loss: 0.0012\n",
      "Epoch 8/300\n",
      "36/36 [==============================] - 3s 74ms/step - loss: 9.9790e-04 - val_loss: 0.0015\n",
      "Epoch 9/300\n",
      "36/36 [==============================] - 3s 79ms/step - loss: 9.0394e-04 - val_loss: 0.0013\n",
      "Epoch 10/300\n",
      "36/36 [==============================] - 3s 77ms/step - loss: 8.5631e-04 - val_loss: 0.0016\n",
      "Epoch 11/300\n",
      "36/36 [==============================] - 3s 76ms/step - loss: 9.5798e-04 - val_loss: 0.0012\n",
      "Epoch 12/300\n",
      "36/36 [==============================] - 3s 79ms/step - loss: 8.3274e-04 - val_loss: 0.0018\n"
     ]
    }
   ],
   "source": [
    "model = LSTM_model(X_train, y_train, X_test, y_test)"
   ]
  },
  {
   "cell_type": "code",
   "execution_count": 22,
   "metadata": {},
   "outputs": [
    {
     "name": "stdout",
     "output_type": "stream",
     "text": [
      "8/8 [==============================] - 1s 31ms/step\n",
      "3/3 [==============================] - 0s 23ms/step\n",
      "RMSE score of the model: 31.7\n",
      "MAPE score of the model: 1.36%\n",
      "MAE score of the model: 25.0\n"
     ]
    }
   ],
   "source": [
    "y_pred_test, rmse, mape, mae = Eval_model(model, X_test, y_test)\n",
    "y_pred_val, _, _, _ = Eval_model(model, X_valid, y_valid)\n",
    "RMSE[1] = rmse\n",
    "MAPE[1] = str(mape)+'%'\n",
    "MAE[1] = mae\n",
    "print(f\"RMSE score of the model: {rmse}\")\n",
    "print(f\"MAPE score of the model: {mape}%\")\n",
    "print(f\"MAE score of the model: {mae}\")"
   ]
  },
  {
   "cell_type": "code",
   "execution_count": 23,
   "metadata": {},
   "outputs": [
    {
     "data": {
      "image/png": "[encoded data removed]",
      "text/plain": [
       "<Figure size 720x432 with 1 Axes>"
      ]
     },
     "metadata": {
      "needs_background": "light"
     },
     "output_type": "display_data"
    }
   ],
   "source": [
    "plt.figure(figsize=(10,6))\n",
    "plt.plot(df['Date'][:train_size], data[:train_size].flatten(), label = \"Train\")\n",
    "plt.plot(df['Date'][train_size:train_size+test_size], data[train_size:train_size+test_size].flatten(), label = \"Test\")\n",
    "plt.plot(df['Date'][train_size+time_step:train_size+test_size], y_pred_test, label = \"Predict_test\")\n",
    "plt.plot(df['Date'][train_size+test_size:], data[train_size+test_size:].flatten(), label = \"Valid\")\n",
    "plt.plot(df['Date'][train_size+test_size+time_step:], y_pred_val, label = \"Predict_valid\")\n",
    "plt.legend()\n",
    "plt.show()"
   ]
  },
  {
   "attachments": {},
   "cell_type": "markdown",
   "metadata": {},
   "source": [
    "# Train(80%) - Test(10%) - Valid(10%)"
   ]
  },
  {
   "cell_type": "code",
   "execution_count": 24,
   "metadata": {},
   "outputs": [],
   "source": [
    "train_size = int(0.8*len(data_scaled))\n",
    "test_size = int(0.1*len(data_scaled))\n",
    "valid_size = len(data_scaled) - train_size - test_size\n",
    "time_step = 100\n",
    "X_train, X_test, X_valid, y_train, y_test, y_valid = Train_test_split(data_scaled, n_steps=time_step, train_size=train_size, test_size=test_size)"
   ]
  },
  {
   "cell_type": "code",
   "execution_count": 25,
   "metadata": {},
   "outputs": [
    {
     "name": "stdout",
     "output_type": "stream",
     "text": [
      "Epoch 1/300\n",
      "41/41 [==============================] - 8s 90ms/step - loss: 0.0178 - val_loss: 0.0041\n",
      "Epoch 2/300\n",
      "41/41 [==============================] - 3s 74ms/step - loss: 0.0012 - val_loss: 0.0016\n",
      "Epoch 3/300\n",
      "41/41 [==============================] - 3s 83ms/step - loss: 0.0011 - val_loss: 0.0012\n",
      "Epoch 4/300\n",
      "41/41 [==============================] - 4s 86ms/step - loss: 0.0010 - val_loss: 0.0012\n",
      "Epoch 5/300\n",
      "41/41 [==============================] - 3s 75ms/step - loss: 0.0011 - val_loss: 0.0033\n",
      "Epoch 6/300\n",
      "41/41 [==============================] - 3s 73ms/step - loss: 0.0012 - val_loss: 0.0017\n",
      "Epoch 7/300\n",
      "41/41 [==============================] - 3s 73ms/step - loss: 0.0010 - val_loss: 0.0011\n",
      "Epoch 8/300\n",
      "41/41 [==============================] - 3s 78ms/step - loss: 9.8367e-04 - val_loss: 0.0023\n",
      "Epoch 9/300\n",
      "41/41 [==============================] - 3s 77ms/step - loss: 9.6266e-04 - val_loss: 0.0013\n",
      "Epoch 10/300\n",
      "41/41 [==============================] - 3s 81ms/step - loss: 8.8192e-04 - val_loss: 9.3224e-04\n",
      "Epoch 11/300\n",
      "41/41 [==============================] - 5s 111ms/step - loss: 8.5409e-04 - val_loss: 0.0013\n",
      "Epoch 12/300\n",
      "41/41 [==============================] - 5s 118ms/step - loss: 8.3966e-04 - val_loss: 8.3973e-04\n",
      "Epoch 13/300\n",
      "41/41 [==============================] - 8s 187ms/step - loss: 8.5108e-04 - val_loss: 0.0011\n",
      "Epoch 14/300\n",
      "41/41 [==============================] - 7s 166ms/step - loss: 8.0463e-04 - val_loss: 7.3704e-04\n",
      "Epoch 15/300\n",
      "41/41 [==============================] - 6s 147ms/step - loss: 7.8368e-04 - val_loss: 0.0030\n",
      "Epoch 16/300\n",
      "41/41 [==============================] - 6s 136ms/step - loss: 7.8853e-04 - val_loss: 8.9600e-04\n",
      "Epoch 17/300\n",
      "41/41 [==============================] - 5s 120ms/step - loss: 7.9436e-04 - val_loss: 0.0011\n",
      "Epoch 18/300\n",
      "41/41 [==============================] - 5s 133ms/step - loss: 8.0896e-04 - val_loss: 0.0012\n",
      "Epoch 19/300\n",
      "41/41 [==============================] - 6s 142ms/step - loss: 9.6859e-04 - val_loss: 6.2067e-04\n",
      "Epoch 20/300\n",
      "41/41 [==============================] - 5s 131ms/step - loss: 8.1060e-04 - val_loss: 0.0015\n",
      "Epoch 21/300\n",
      "41/41 [==============================] - 5s 121ms/step - loss: 7.1228e-04 - val_loss: 5.4538e-04\n",
      "Epoch 22/300\n",
      "41/41 [==============================] - 5s 117ms/step - loss: 6.9809e-04 - val_loss: 5.1480e-04\n",
      "Epoch 23/300\n",
      "41/41 [==============================] - 4s 109ms/step - loss: 7.4288e-04 - val_loss: 5.0254e-04\n",
      "Epoch 24/300\n",
      "41/41 [==============================] - 5s 111ms/step - loss: 7.0374e-04 - val_loss: 0.0023\n",
      "Epoch 25/300\n",
      "41/41 [==============================] - 5s 112ms/step - loss: 6.8270e-04 - val_loss: 6.4575e-04\n",
      "Epoch 26/300\n",
      "41/41 [==============================] - 4s 102ms/step - loss: 7.1376e-04 - val_loss: 9.1480e-04\n",
      "Epoch 27/300\n",
      "41/41 [==============================] - 5s 113ms/step - loss: 6.9306e-04 - val_loss: 4.9207e-04\n",
      "Epoch 28/300\n",
      "41/41 [==============================] - 5s 116ms/step - loss: 6.0057e-04 - val_loss: 5.0203e-04\n",
      "Epoch 29/300\n",
      "41/41 [==============================] - 5s 118ms/step - loss: 5.7486e-04 - val_loss: 4.1376e-04\n",
      "Epoch 30/300\n",
      "41/41 [==============================] - 5s 114ms/step - loss: 5.6929e-04 - val_loss: 4.4526e-04\n",
      "Epoch 31/300\n",
      "41/41 [==============================] - 5s 111ms/step - loss: 6.4156e-04 - val_loss: 8.0111e-04\n",
      "Epoch 32/300\n",
      "41/41 [==============================] - 5s 111ms/step - loss: 5.9984e-04 - val_loss: 4.4172e-04\n",
      "Epoch 33/300\n",
      "41/41 [==============================] - 5s 113ms/step - loss: 5.2124e-04 - val_loss: 4.0588e-04\n",
      "Epoch 34/300\n",
      "41/41 [==============================] - 5s 115ms/step - loss: 4.6282e-04 - val_loss: 3.5421e-04\n",
      "Epoch 35/300\n",
      "41/41 [==============================] - 5s 111ms/step - loss: 4.6018e-04 - val_loss: 4.1487e-04\n",
      "Epoch 36/300\n",
      "41/41 [==============================] - 5s 111ms/step - loss: 4.6832e-04 - val_loss: 5.3768e-04\n",
      "Epoch 37/300\n",
      "41/41 [==============================] - 5s 111ms/step - loss: 4.7137e-04 - val_loss: 4.1584e-04\n",
      "Epoch 38/300\n",
      "41/41 [==============================] - 5s 111ms/step - loss: 3.8368e-04 - val_loss: 3.3591e-04\n",
      "Epoch 39/300\n",
      "41/41 [==============================] - 4s 109ms/step - loss: 3.9064e-04 - val_loss: 6.6935e-04\n",
      "Epoch 40/300\n",
      "41/41 [==============================] - 5s 127ms/step - loss: 4.3051e-04 - val_loss: 3.3487e-04\n",
      "Epoch 41/300\n",
      "41/41 [==============================] - 5s 114ms/step - loss: 3.8363e-04 - val_loss: 0.0011\n",
      "Epoch 42/300\n",
      "41/41 [==============================] - 5s 114ms/step - loss: 3.6921e-04 - val_loss: 7.8976e-04\n",
      "Epoch 43/300\n",
      "41/41 [==============================] - 5s 113ms/step - loss: 3.3271e-04 - val_loss: 3.0534e-04\n",
      "Epoch 44/300\n",
      "41/41 [==============================] - 5s 110ms/step - loss: 3.4295e-04 - val_loss: 3.8150e-04\n",
      "Epoch 45/300\n",
      "41/41 [==============================] - 5s 120ms/step - loss: 3.0297e-04 - val_loss: 5.8357e-04\n",
      "Epoch 46/300\n",
      "41/41 [==============================] - 4s 102ms/step - loss: 3.0223e-04 - val_loss: 3.4822e-04\n",
      "Epoch 47/300\n",
      "41/41 [==============================] - 6s 141ms/step - loss: 2.9365e-04 - val_loss: 2.9049e-04\n",
      "Epoch 48/300\n",
      "41/41 [==============================] - 6s 140ms/step - loss: 3.2337e-04 - val_loss: 2.9751e-04\n",
      "Epoch 49/300\n",
      "41/41 [==============================] - 6s 145ms/step - loss: 2.9370e-04 - val_loss: 4.6330e-04\n",
      "Epoch 50/300\n",
      "41/41 [==============================] - 6s 143ms/step - loss: 2.9469e-04 - val_loss: 2.9513e-04\n",
      "Epoch 51/300\n",
      "41/41 [==============================] - 6s 139ms/step - loss: 2.9256e-04 - val_loss: 2.9366e-04\n",
      "Epoch 52/300\n",
      "41/41 [==============================] - 5s 132ms/step - loss: 2.9577e-04 - val_loss: 3.1975e-04\n"
     ]
    }
   ],
   "source": [
    "model = LSTM_model(X_train, y_train, X_test, y_test)"
   ]
  },
  {
   "cell_type": "code",
   "execution_count": 26,
   "metadata": {},
   "outputs": [
    {
     "name": "stdout",
     "output_type": "stream",
     "text": [
      "3/3 [==============================] - 2s 64ms/step\n",
      "3/3 [==============================] - 0s 58ms/step\n",
      "RMSE score of the model: 15.7\n",
      "MAPE score of the model: 0.66%\n",
      "MAE score of the model: 11.8\n"
     ]
    }
   ],
   "source": [
    "y_pred_test, rmse, mape, mae = Eval_model(model, X_test, y_test)\n",
    "y_pred_val, _, _, _ = Eval_model(model, X_valid, y_valid)\n",
    "RMSE[2] = rmse\n",
    "MAPE[2] = str(mape)+'%'\n",
    "MAE[2] = mae\n",
    "print(f\"RMSE score of the model: {rmse}\")\n",
    "print(f\"MAPE score of the model: {mape}%\")\n",
    "print(f\"MAE score of the model: {mae}\")"
   ]
  },
  {
   "cell_type": "code",
   "execution_count": 27,
   "metadata": {},
   "outputs": [],
   "source": [
    "y_pred_30days = []\n",
    "time_data = df['Date'][-1:]\n",
    "time_30days = pd.Series(pd.date_range(df['Date'][-1:].values[0], periods=30, freq='D'))\n",
    "temp_input = data_scaled[-time_step:]"
   ]
  },
  {
   "cell_type": "code",
   "execution_count": 28,
   "metadata": {},
   "outputs": [
    {
     "name": "stderr",
     "output_type": "stream",
     "text": [
      "  0%|          | 0/30 [00:00<?, ?it/s]"
     ]
    },
    {
     "name": "stderr",
     "output_type": "stream",
     "text": [
      "100%|██████████| 30/30 [00:03<00:00,  9.03it/s]\n"
     ]
    }
   ],
   "source": [
    "for i in tqdm(range(30)):\n",
    "    pred_next_day = model.predict(temp_input[i:i+time_step].reshape(1,time_step,1), verbose=0)\n",
    "    y_pred_30days.append(scaler.inverse_transform(pred_next_day)[0][0])\n",
    "    temp_input = np.append(temp_input, pred_next_day)"
   ]
  },
  {
   "cell_type": "code",
   "execution_count": 29,
   "metadata": {},
   "outputs": [
    {
     "data": {
      "image/png": "[encoded data removed]",
      "text/plain": [
       "<Figure size 720x432 with 1 Axes>"
      ]
     },
     "metadata": {
      "needs_background": "light"
     },
     "output_type": "display_data"
    }
   ],
   "source": [
    "plt.figure(figsize=(10,6))\n",
    "plt.plot(df['Date'][:train_size], data[:train_size].flatten(), label = \"Train\")\n",
    "plt.plot(df['Date'][train_size:train_size+test_size], data[train_size:train_size+test_size].flatten(), label = \"Test\")\n",
    "plt.plot(df['Date'][train_size+time_step:train_size+test_size], y_pred_test, label = \"Predict_test\")\n",
    "plt.plot(df['Date'][train_size+test_size:], data[train_size+test_size:].flatten(), label = \"Valid\")\n",
    "plt.plot(df['Date'][train_size+test_size+time_step:], y_pred_val, label = \"Predict_valid\")\n",
    "plt.plot(time_30days, y_pred_30days, label = \"Predict_30days\", color='black')\n",
    "plt.legend()\n",
    "plt.show()"
   ]
  },
  {
   "cell_type": "code",
   "execution_count": 30,
   "metadata": {},
   "outputs": [
    {
     "data": {
      "text/html": [
       "<div>\n",
       "<style scoped>\n",
       "    .dataframe tbody tr th:only-of-type {\n",
       "        vertical-align: middle;\n",
       "    }\n",
       "\n",
       "    .dataframe tbody tr th {\n",
       "        vertical-align: top;\n",
       "    }\n",
       "\n",
       "    .dataframe thead th {\n",
       "        text-align: right;\n",
       "    }\n",
       "</style>\n",
       "<table border=\"1\" class=\"dataframe\">\n",
       "  <thead>\n",
       "    <tr style=\"text-align: right;\">\n",
       "      <th></th>\n",
       "      <th>6-3-1</th>\n",
       "      <th>7-2-1</th>\n",
       "      <th>8-1-1</th>\n",
       "    </tr>\n",
       "  </thead>\n",
       "  <tbody>\n",
       "    <tr>\n",
       "      <th>RMSE</th>\n",
       "      <td>30.5</td>\n",
       "      <td>31.7</td>\n",
       "      <td>15.7</td>\n",
       "    </tr>\n",
       "    <tr>\n",
       "      <th>MAPE</th>\n",
       "      <td>1.27%</td>\n",
       "      <td>1.36%</td>\n",
       "      <td>0.66%</td>\n",
       "    </tr>\n",
       "    <tr>\n",
       "      <th>MAE</th>\n",
       "      <td>23.0</td>\n",
       "      <td>25.0</td>\n",
       "      <td>11.8</td>\n",
       "    </tr>\n",
       "  </tbody>\n",
       "</table>\n",
       "</div>"
      ],
      "text/plain": [
       "      6-3-1  7-2-1  8-1-1\n",
       "RMSE   30.5   31.7   15.7\n",
       "MAPE  1.27%  1.36%  0.66%\n",
       "MAE    23.0   25.0   11.8"
      ]
     },
     "execution_count": 30,
     "metadata": {},
     "output_type": "execute_result"
    }
   ],
   "source": [
    "import pandas as pd\n",
    "pd.DataFrame([RMSE, MAPE, MAE], columns=['6-3-1', '7-2-1', '8-1-1'], index=['RMSE', 'MAPE', 'MAE'])"
   ]
  },
  {
   "cell_type": "code",
   "execution_count": null,
   "metadata": {},
   "outputs": [],
   "source": []
  },
  {
   "cell_type": "code",
   "execution_count": null,
   "metadata": {},
   "outputs": [],
   "source": []
  }
 ],
 "metadata": {
  "kernelspec": {
   "display_name": "base",
   "language": "python",
   "name": "python3"
  },
  "language_info": {
   "codemirror_mode": {
    "name": "ipython",
    "version": 3
   },
   "file_extension": ".py",
   "mimetype": "text/x-python",
   "name": "python",
   "nbconvert_exporter": "python",
   "pygments_lexer": "ipython3",
   "version": "3.9.7"
  },
  "orig_nbformat": 4
 },
 "nbformat": 4,
 "nbformat_minor": 2
}
